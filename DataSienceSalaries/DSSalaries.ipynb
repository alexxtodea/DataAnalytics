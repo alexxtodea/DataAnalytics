{
 "cells": [
  {
   "cell_type": "code",
   "execution_count": 12,
   "metadata": {},
   "outputs": [
    {
     "ename": "ModuleNotFoundError",
     "evalue": "No module named 'pycountry'",
     "output_type": "error",
     "traceback": [
      "\u001b[0;31m---------------------------------------------------------------------------\u001b[0m",
      "\u001b[0;31mModuleNotFoundError\u001b[0m                       Traceback (most recent call last)",
      "\u001b[0;32m/var/folders/c5/fmy1d9zn24j8h6c62l265lpm0000gn/T/ipykernel_82202/465970366.py\u001b[0m in \u001b[0;36m<module>\u001b[0;34m\u001b[0m\n\u001b[1;32m      1\u001b[0m \u001b[0;32mimport\u001b[0m \u001b[0mpandas\u001b[0m \u001b[0;32mas\u001b[0m \u001b[0mpd\u001b[0m\u001b[0;34m\u001b[0m\u001b[0;34m\u001b[0m\u001b[0m\n\u001b[1;32m      2\u001b[0m \u001b[0;32mimport\u001b[0m \u001b[0mnumpy\u001b[0m \u001b[0;32mas\u001b[0m \u001b[0mnp\u001b[0m\u001b[0;34m\u001b[0m\u001b[0;34m\u001b[0m\u001b[0m\n\u001b[0;32m----> 3\u001b[0;31m \u001b[0;32mimport\u001b[0m \u001b[0mpycountry\u001b[0m \u001b[0;32mas\u001b[0m \u001b[0mpc\u001b[0m\u001b[0;34m\u001b[0m\u001b[0;34m\u001b[0m\u001b[0m\n\u001b[0m\u001b[1;32m      4\u001b[0m \u001b[0;34m\u001b[0m\u001b[0m\n\u001b[1;32m      5\u001b[0m \u001b[0msalariesDC\u001b[0m \u001b[0;34m=\u001b[0m \u001b[0mpd\u001b[0m\u001b[0;34m.\u001b[0m\u001b[0mread_csv\u001b[0m\u001b[0;34m(\u001b[0m\u001b[0;34m\"ds_salaries.csv\"\u001b[0m\u001b[0;34m)\u001b[0m\u001b[0;34m\u001b[0m\u001b[0;34m\u001b[0m\u001b[0m\n",
      "\u001b[0;31mModuleNotFoundError\u001b[0m: No module named 'pycountry'"
     ]
    }
   ],
   "source": [
    "import pandas as pd\n",
    "import numpy as np\n",
    "import pycountry as pc \n",
    "\n",
    "salariesDC = pd.read_csv(\"ds_salaries.csv\")\n",
    "np.random.seed(0)"
   ]
  },
  {
   "attachments": {},
   "cell_type": "markdown",
   "metadata": {},
   "source": [
    "### Data Sience Salaries ###"
   ]
  },
  {
   "attachments": {},
   "cell_type": "markdown",
   "metadata": {},
   "source": [
    "As we see above, I've already added the dataset. \n",
    "\n",
    "Hi, I'm very interested in being a data sience engineer. But before i want to take this path i really want to know how much this job gets payed. That is why I'm working with this dataset. Now i can practice my skills and find out how much I might earn. :)"
   ]
  },
  {
   "cell_type": "code",
   "execution_count": 6,
   "metadata": {},
   "outputs": [],
   "source": [
    "def segment_job_title(job_title):\n",
    "    data_scientist_titles = ['Principal Data Scientist', 'Data Scientist','Applied Scientist', 'Research Scientist', 'Applied Data Scientist', 'Lead Data Scientist', 'Staff Data Scientist', 'Principal Data Analyst','Principal Data Engineer']\n",
    "    machine_learning_titles = ['ML Engineer', 'Machine Learning Engineer','Applied Machine Learning Engineer', 'Machine Learning Researcher','Machine Learning Scientist', 'Autonomous Vehicle Technician', 'AppliedMachine Learning Scientist', 'Principal Machine Learning Engineer','Machine Learning Developer', 'Lead Machine Learning Engineer', 'Machine Learning Manager']\n",
    "    data_analyst_titles = ['Data Analyst', 'Data Quality Analyst','Compliance Data Analyst', 'Business Data Analyst', 'Staff Data Analyst','Lead Data Analyst', 'BI Data Analyst', 'Marketing Data Analyst', 'Finance Data Analyst']\n",
    "    data_engineer_titles = ['Data Modeler', 'Data Engineer', 'ETL Engineer', 'Data DevOps Engineer', 'Big Data Engineer', 'Data Infrastructure Engineer', 'Software Data Engineer', 'Cloud Database Engineer', 'Cloud Data Engineer', 'Cloud Data Architect', 'Lead Data Engineer', 'Principal Data Engineer']\n",
    "    bi_analytics_titles = ['Data Analytics Manager', 'Business Intelligence Engineer', 'Analytics Engineer', 'BI Data Engineer','Director of Data Science', 'BI Developer', 'Insight Analyst', 'Data Analytics Specialist', 'Data Analytics Lead', 'Power BI Developer', 'Cloud Data Architect']\n",
    "    other_titles = ['Data Strategist', 'Computer Vision Engineer', 'AI Developer', 'Head of Data']\n",
    "    if job_title in data_scientist_titles:\n",
    "        return 'Data Scientist'\n",
    "    elif job_title in machine_learning_titles:\n",
    "        return 'Machine Learning Engineer'\n",
    "    elif job_title in data_analyst_titles:\n",
    "        return 'Data Analyst'\n",
    "    elif job_title in data_engineer_titles:\n",
    "        return 'Data Engineer'\n",
    "    elif job_title in bi_analytics_titles:\n",
    "        return 'Business Intelligence and Analytics'\n",
    "    elif job_title in other_titles:\n",
    "        return 'Other'\n",
    "    else:\n",
    "        return 'Uncategorized'\n"
   ]
  }
 ],
 "metadata": {
  "kernelspec": {
   "display_name": "DataAnalytics",
   "language": "python",
   "name": "python3"
  },
  "language_info": {
   "codemirror_mode": {
    "name": "ipython",
    "version": 3
   },
   "file_extension": ".py",
   "mimetype": "text/x-python",
   "name": "python",
   "nbconvert_exporter": "python",
   "pygments_lexer": "ipython3",
   "version": "3.9.13"
  },
  "orig_nbformat": 4,
  "vscode": {
   "interpreter": {
    "hash": "d2cf816009f15afbcb31a5581dd5e2ba87864b922c5f09b57520046109187d7d"
   }
  }
 },
 "nbformat": 4,
 "nbformat_minor": 2
}
